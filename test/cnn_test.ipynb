{
 "cells": [
  {
   "cell_type": "code",
   "execution_count": 127,
   "metadata": {},
   "outputs": [],
   "source": [
    "# import libraries\n",
    "import struct\n",
    "import numpy as np\n",
    "from scipy.signal import convolve2d\n"
   ]
  },
  {
   "cell_type": "code",
   "execution_count": 128,
   "metadata": {},
   "outputs": [],
   "source": [
    "# Set params\n",
    "N=1\n",
    "M=1\n",
    "K=3\n",
    "R=4\n",
    "C=4"
   ]
  },
  {
   "cell_type": "code",
   "execution_count": 129,
   "metadata": {},
   "outputs": [],
   "source": [
    "# Generate input maps and weights\n",
    "input_fm = np.random.uniform( 0, 1, ( N, R, C ) )\n",
    "weights = np.random.uniform( 0, 1, ( N, M, K, K ) )"
   ]
  },
  {
   "cell_type": "code",
   "execution_count": 130,
   "metadata": {},
   "outputs": [],
   "source": [
    "output_fm = np.zeros( ( M, R, C ) )\n",
    "# compute convolution\n",
    "for i in range( M ):\n",
    "    # convolve each input fm and sum it together\n",
    "    for j in range( N ):\n",
    "        # mirror kernel\n",
    "        kernel = np.flip(np.flip(weights[j][i],0),1)\n",
    "        output_fm[i] += convolve2d( input_fm[j], kernel, mode='same')\n",
    "\n",
    "# print(output_fm[0])\n"
   ]
  },
  {
   "cell_type": "code",
   "execution_count": 131,
   "metadata": {},
   "outputs": [],
   "source": [
    "# write files\n",
    "# write input_fm\n",
    "with open('input_fm.dat', 'w') as f:\n",
    "    for i in range(N):\n",
    "        for row in range(R):\n",
    "            for col in range(C):\n",
    "                num = struct.unpack('!I', struct.pack('!f', input_fm[i][row][col]))[0]\n",
    "                f.write(f\"{num:032b}\\n\")\n",
    "\n",
    "# write weights_fm\n",
    "with open('weights.dat', 'w') as f:\n",
    "    for i in range(N):\n",
    "        for j in range(M):\n",
    "            for row in range(K):\n",
    "                for col in range(K):\n",
    "                    num = struct.unpack('!I', struct.pack('!f', weights[i][j][row][col]))[0]\n",
    "                    f.write(f\"{num:032b}\\n\")\n",
    "\n",
    "# write output_fm\n",
    "with open('output_fm.dat', 'w') as f:\n",
    "    for i in range(M):\n",
    "        for row in range(R):\n",
    "            for col in range(C):\n",
    "                num = struct.unpack('!I', struct.pack('!f', output_fm[i][row][col]))[0]\n",
    "                f.write(f\"{num:032b}\\n\")\n",
    "                "
   ]
  },
  {
   "cell_type": "code",
   "execution_count": 132,
   "metadata": {},
   "outputs": [],
   "source": [
    "# write files in decimal\n",
    "# write input_fm\n",
    "with open('input_fm.test', 'w') as f:\n",
    "    for i in range(N):\n",
    "        for row in range(R):\n",
    "            for col in range(C):\n",
    "                f.write(f\"{input_fm[i][row][col]:.7f}\\n\")\n",
    "\n",
    "# write weights_fm\n",
    "with open('weights.test', 'w') as f:\n",
    "    for i in range(N):\n",
    "        for j in range(M):\n",
    "            for row in range(K):\n",
    "                for col in range(K):\n",
    "                    f.write(f\"{weights[i][j][row][col]:.7f}\\n\")\n",
    "\n",
    "# write output_fm\n",
    "with open('output_fm.test', 'w') as f:\n",
    "    for i in range(M):\n",
    "        for row in range(R):\n",
    "            for col in range(C):\n",
    "                f.write(f\"{output_fm[i][row][col]:.7f}\\n\")"
   ]
  },
  {
   "cell_type": "code",
   "execution_count": 133,
   "metadata": {},
   "outputs": [
    {
     "name": "stdout",
     "output_type": "stream",
     "text": [
      "[[[0.99912727 0.68886453 0.83942442 0.75191518]\n",
      "  [0.85751783 0.9040124  0.48574069 0.18639838]\n",
      "  [0.02036793 0.16910326 0.01182998 0.03038433]\n",
      "  [0.05409501 0.01922742 0.57959395 0.0813523 ]]]\n",
      "[[[[0.15611597 0.97473806 0.62777208]\n",
      "   [0.15506927 0.55971888 0.07264831]\n",
      "   [0.7725946  0.08766397 0.14942652]]]]\n",
      "[[[0.81953208 1.41583268 1.40015869 0.9426511 ]\n",
      "  [1.97903523 2.06099325 1.95962289 1.05542543]\n",
      "  [1.43466966 1.54873589 0.84448866 0.73128545]\n",
      "  [0.15768653 0.23669462 0.39030665 0.16687524]]]\n"
     ]
    }
   ],
   "source": [
    "print(input_fm)\n",
    "print(weights)\n",
    "print(output_fm)"
   ]
  }
 ],
 "metadata": {
  "kernelspec": {
   "display_name": ".venv",
   "language": "python",
   "name": "python3"
  },
  "language_info": {
   "codemirror_mode": {
    "name": "ipython",
    "version": 3
   },
   "file_extension": ".py",
   "mimetype": "text/x-python",
   "name": "python",
   "nbconvert_exporter": "python",
   "pygments_lexer": "ipython3",
   "version": "3.9.13"
  }
 },
 "nbformat": 4,
 "nbformat_minor": 2
}
