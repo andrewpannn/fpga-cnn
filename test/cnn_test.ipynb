{
 "cells": [
  {
   "cell_type": "code",
   "execution_count": 166,
   "metadata": {},
   "outputs": [],
   "source": [
    "# import libraries\n",
    "import struct\n",
    "import numpy as np\n",
    "from scipy.signal import convolve2d\n"
   ]
  },
  {
   "cell_type": "code",
   "execution_count": 167,
   "metadata": {},
   "outputs": [],
   "source": [
    "# Set params\n",
    "N=1\n",
    "M=1\n",
    "K=3\n",
    "R=4\n",
    "C=4"
   ]
  },
  {
   "cell_type": "code",
   "execution_count": 168,
   "metadata": {},
   "outputs": [],
   "source": [
    "# Generate input maps and weights\n",
    "input_fm = np.random.uniform( 0, 1, ( N, R, C ) )\n",
    "weights = np.random.uniform( 0, 1, ( M, N, K, K ) )"
   ]
  },
  {
   "cell_type": "code",
   "execution_count": 169,
   "metadata": {},
   "outputs": [],
   "source": [
    "output_fm = np.zeros( ( M, R, C ) )\n",
    "# compute convolution\n",
    "for i in range( M ):\n",
    "    # convolve each input fm and sum it together\n",
    "    for j in range( N ):\n",
    "        # mirror kernel\n",
    "        kernel = np.flip(np.flip(weights[i][j],0),1)\n",
    "        output_fm[i] += convolve2d( input_fm[j], kernel, mode='same')\n",
    "\n",
    "# print(output_fm[0])\n"
   ]
  },
  {
   "cell_type": "code",
   "execution_count": 170,
   "metadata": {},
   "outputs": [],
   "source": [
    "# write files\n",
    "# write input_fm\n",
    "with open('input_fm.dat', 'w') as f:\n",
    "    for i in range(N):\n",
    "        for row in range(R):\n",
    "            for col in range(C):\n",
    "                num = struct.unpack('!I', struct.pack('!f', input_fm[i][row][col]))[0]\n",
    "                f.write(f\"{num:032b}\\n\")\n",
    "\n",
    "# write weights_fm\n",
    "with open('weights.dat', 'w') as f:\n",
    "    for i in range(M):\n",
    "        for j in range(N):\n",
    "            for row in range(K):\n",
    "                for col in range(K):\n",
    "                    num = struct.unpack('!I', struct.pack('!f', weights[i][j][row][col]))[0]\n",
    "                    f.write(f\"{num:032b}\\n\")\n",
    "\n",
    "# write output_fm\n",
    "with open('output_fm.dat', 'w') as f:\n",
    "    for i in range(M):\n",
    "        for row in range(R):\n",
    "            for col in range(C):\n",
    "                num = struct.unpack('!I', struct.pack('!f', output_fm[i][row][col]))[0]\n",
    "                f.write(f\"{num:032b}\\n\")\n",
    "                "
   ]
  },
  {
   "cell_type": "code",
   "execution_count": 171,
   "metadata": {},
   "outputs": [],
   "source": [
    "# write files in decimal\n",
    "# write input_fm\n",
    "with open('input_fm.test', 'w') as f:\n",
    "    for i in range(N):\n",
    "        for row in range(R):\n",
    "            for col in range(C):\n",
    "                f.write(f\"{input_fm[i][row][col]:.7f}\\n\")\n",
    "\n",
    "# write weights_fm\n",
    "with open('weights.test', 'w') as f:\n",
    "    for i in range(M):\n",
    "        for j in range(N):\n",
    "            for row in range(K):\n",
    "                for col in range(K):\n",
    "                    f.write(f\"{weights[i][j][row][col]:.7f}\\n\")\n",
    "\n",
    "# write output_fm\n",
    "with open('output_fm.test', 'w') as f:\n",
    "    for i in range(M):\n",
    "        for row in range(R):\n",
    "            for col in range(C):\n",
    "                f.write(f\"{output_fm[i][row][col]:.7f}\\n\")"
   ]
  },
  {
   "cell_type": "code",
   "execution_count": 172,
   "metadata": {},
   "outputs": [
    {
     "name": "stdout",
     "output_type": "stream",
     "text": [
      "[[[0.77876823 0.83834584 0.44207752 0.17073085]\n",
      "  [0.50554184 0.76701984 0.09626479 0.83229128]\n",
      "  [0.3767005  0.9311596  0.72429977 0.7828158 ]\n",
      "  [0.01854674 0.90226254 0.99118977 0.12440259]]]\n",
      "[[[[0.7450844  0.89299104 0.74411826]\n",
      "   [0.31123649 0.55553515 0.78387263]\n",
      "   [0.46333789 0.71202945 0.41897901]]]\n",
      "\n",
      "\n",
      " [[[0.77164164 0.54078499 0.29027136]\n",
      "   [0.3950877  0.84628967 0.43791429]\n",
      "   [0.76663622 0.03661701 0.53839729]]]]\n",
      "[[[1.77111538 1.87535448 1.41298995 0.86965667]\n",
      "  [2.8597118  3.4577693  3.36621469 1.8671578 ]\n",
      "  [2.35261359 3.40185779 3.75852476 2.02309835]\n",
      "  [1.74684531 2.93513305 2.8520668  1.61631639]]\n",
      "\n",
      " [[1.45765997 1.67823861 1.81976474 0.42342324]\n",
      "  [1.9433452  2.78647692 2.84635825 1.75978547]\n",
      "  [1.70905401 2.66778522 3.00415624 2.23746065]\n",
      "  [0.88481252 2.20943764 2.58722515 1.47912242]]]\n"
     ]
    }
   ],
   "source": [
    "print(input_fm)\n",
    "print(weights)\n",
    "print(output_fm)"
   ]
  }
 ],
 "metadata": {
  "kernelspec": {
   "display_name": ".venv",
   "language": "python",
   "name": "python3"
  },
  "language_info": {
   "codemirror_mode": {
    "name": "ipython",
    "version": 3
   },
   "file_extension": ".py",
   "mimetype": "text/x-python",
   "name": "python",
   "nbconvert_exporter": "python",
   "pygments_lexer": "ipython3",
   "version": "3.9.13"
  }
 },
 "nbformat": 4,
 "nbformat_minor": 2
}
