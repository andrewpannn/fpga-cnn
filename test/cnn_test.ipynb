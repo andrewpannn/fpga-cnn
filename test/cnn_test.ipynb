{
 "cells": [
  {
   "cell_type": "code",
   "execution_count": 22,
   "metadata": {},
   "outputs": [],
   "source": [
    "# import libraries\n",
    "import struct\n",
    "import numpy as np\n",
    "from scipy.signal import convolve2d\n"
   ]
  },
  {
   "cell_type": "code",
   "execution_count": 23,
   "metadata": {},
   "outputs": [],
   "source": [
    "# Set params\n",
    "N=1\n",
    "M=1\n",
    "K=1\n",
    "R=4\n",
    "C=4"
   ]
  },
  {
   "cell_type": "code",
   "execution_count": 24,
   "metadata": {},
   "outputs": [],
   "source": [
    "# Generate input maps and weights\n",
    "input_fm = np.random.uniform( 0, 1, ( N, R, C ) )\n",
    "weights = np.random.uniform( 0, 1, ( M, N, K, K ) )"
   ]
  },
  {
   "cell_type": "code",
   "execution_count": 25,
   "metadata": {},
   "outputs": [],
   "source": [
    "output_fm = np.zeros( ( M, R, C ) )\n",
    "# compute convolution\n",
    "for i in range( M ):\n",
    "    # convolve each input fm and sum it together\n",
    "    for j in range( N ):\n",
    "        # mirror kernel\n",
    "        kernel = np.flip(np.flip(weights[i][j],0),1)\n",
    "        output_fm[i] += convolve2d( input_fm[j], kernel, mode='same')\n",
    "\n",
    "# print(output_fm[0])\n"
   ]
  },
  {
   "cell_type": "code",
   "execution_count": 26,
   "metadata": {},
   "outputs": [],
   "source": [
    "# write files\n",
    "# write input_fm\n",
    "with open('input_fm.dat', 'w') as f:\n",
    "    for i in range(N):\n",
    "        for row in range(R):\n",
    "            for col in range(C):\n",
    "                num = struct.unpack('!I', struct.pack('!f', input_fm[i][row][col]))[0]\n",
    "                f.write(f\"{num:032b}\\n\")\n",
    "\n",
    "# write weights_fm\n",
    "with open('weights.dat', 'w') as f:\n",
    "    for i in range(M):\n",
    "        for j in range(N):\n",
    "            for row in range(K):\n",
    "                for col in range(K):\n",
    "                    num = struct.unpack('!I', struct.pack('!f', weights[i][j][row][col]))[0]\n",
    "                    f.write(f\"{num:032b}\\n\")\n",
    "\n",
    "# write output_fm\n",
    "with open('output_fm.dat', 'w') as f:\n",
    "    for i in range(M):\n",
    "        for row in range(R):\n",
    "            for col in range(C):\n",
    "                num = struct.unpack('!I', struct.pack('!f', output_fm[i][row][col]))[0]\n",
    "                f.write(f\"{num:032b}\\n\")\n",
    "                "
   ]
  },
  {
   "cell_type": "code",
   "execution_count": 27,
   "metadata": {},
   "outputs": [],
   "source": [
    "# write files in decimal\n",
    "# write input_fm\n",
    "with open('input_fm.test', 'w') as f:\n",
    "    f.write(f\"{input_fm}\")\n",
    "\n",
    "# write weights_fm\n",
    "with open('weights.test', 'w') as f:\n",
    "    f.write(f\"{weights}\")\n",
    "\n",
    "# write output_fm\n",
    "with open('output_fm.test', 'w') as f:\n",
    "    f.write(f\"{output_fm}\")\n"
   ]
  },
  {
   "cell_type": "code",
   "execution_count": 28,
   "metadata": {},
   "outputs": [
    {
     "name": "stdout",
     "output_type": "stream",
     "text": [
      "[[[0.06407955 0.46965055 0.76658903 0.7961119 ]\n",
      "  [0.74084279 0.86366429 0.82393051 0.90871405]\n",
      "  [0.91384569 0.50779311 0.27031848 0.08583059]\n",
      "  [0.10810058 0.11285779 0.76011271 0.17500887]]]\n",
      "[[[[0.63413131]]]]\n",
      "[[[0.04063485 0.29782012 0.48611811 0.50483948]\n",
      "  [0.46979161 0.54767656 0.52248013 0.57624403]\n",
      "  [0.57949816 0.32200751 0.17141741 0.05442786]\n",
      "  [0.06854996 0.07156666 0.48201127 0.11097861]]]\n"
     ]
    }
   ],
   "source": [
    "print(input_fm)\n",
    "print(weights)\n",
    "print(output_fm)"
   ]
  }
 ],
 "metadata": {
  "kernelspec": {
   "display_name": ".venv",
   "language": "python",
   "name": "python3"
  },
  "language_info": {
   "codemirror_mode": {
    "name": "ipython",
    "version": 3
   },
   "file_extension": ".py",
   "mimetype": "text/x-python",
   "name": "python",
   "nbconvert_exporter": "python",
   "pygments_lexer": "ipython3",
   "version": "3.9.13"
  }
 },
 "nbformat": 4,
 "nbformat_minor": 2
}
