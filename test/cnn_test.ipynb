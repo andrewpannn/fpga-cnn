{
 "cells": [
  {
   "cell_type": "code",
   "execution_count": 19,
   "metadata": {},
   "outputs": [],
   "source": [
    "# import libraries\n",
    "import struct\n",
    "import numpy as np\n",
    "from scipy.signal import convolve2d\n"
   ]
  },
  {
   "cell_type": "code",
   "execution_count": 20,
   "metadata": {},
   "outputs": [],
   "source": [
    "# Set params\n",
    "N=4\n",
    "M=4\n",
    "K=2\n",
    "R=4\n",
    "C=4"
   ]
  },
  {
   "cell_type": "code",
   "execution_count": 21,
   "metadata": {},
   "outputs": [],
   "source": [
    "# Generate input maps and weights\n",
    "input_fm = np.random.uniform( 0, 1, ( N, R, C ) )\n",
    "weights = np.random.uniform( 0, 1, ( N, M, K, K ) )"
   ]
  },
  {
   "cell_type": "code",
   "execution_count": 22,
   "metadata": {},
   "outputs": [],
   "source": [
    "output_fm = np.zeros( ( M, R, C ) )\n",
    "# compute convolution\n",
    "for i in range( M ):\n",
    "    # convolve each input fm and sum it together\n",
    "    for j in range( N ):\n",
    "        output_fm[i] += convolve2d( input_fm[j], weights[i][j], mode='same')\n",
    "\n",
    "# print(output_fm[0])\n"
   ]
  },
  {
   "cell_type": "code",
   "execution_count": 23,
   "metadata": {},
   "outputs": [],
   "source": [
    "# write files\n",
    "# write input_fm\n",
    "with open('input_fm.dat', 'w') as f:\n",
    "    for i in range(N):\n",
    "        for row in range(R):\n",
    "            for col in range(C):\n",
    "                num = struct.unpack('!I', struct.pack('!f', input_fm[i][row][col]))[0]\n",
    "                f.write(f\"{num:032b}\\n\")\n",
    "\n",
    "# write weights_fm\n",
    "with open('weights.dat', 'w') as f:\n",
    "    for i in range(N):\n",
    "        for j in range(M):\n",
    "            for row in range(K):\n",
    "                for col in range(K):\n",
    "                    num = struct.unpack('!I', struct.pack('!f', weights[i][j][row][col]))[0]\n",
    "                    f.write(f\"{num:032b}\\n\")\n",
    "\n",
    "# write output_fm\n",
    "with open('output_fm.dat', 'w') as f:\n",
    "    for i in range(M):\n",
    "        for row in range(R):\n",
    "            for col in range(C):\n",
    "                num = struct.unpack('!I', struct.pack('!f', output_fm[i][row][col]))[0]\n",
    "                f.write(f\"{num:032b}\\n\")"
   ]
  }
 ],
 "metadata": {
  "kernelspec": {
   "display_name": ".venv",
   "language": "python",
   "name": "python3"
  },
  "language_info": {
   "codemirror_mode": {
    "name": "ipython",
    "version": 3
   },
   "file_extension": ".py",
   "mimetype": "text/x-python",
   "name": "python",
   "nbconvert_exporter": "python",
   "pygments_lexer": "ipython3",
   "version": "3.9.13"
  }
 },
 "nbformat": 4,
 "nbformat_minor": 2
}
