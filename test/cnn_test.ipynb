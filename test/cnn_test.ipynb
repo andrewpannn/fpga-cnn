{
 "cells": [
  {
   "cell_type": "code",
   "execution_count": 78,
   "metadata": {},
   "outputs": [],
   "source": [
    "# import libraries\n",
    "import numpy as np\n",
    "from scipy.signal import convolve2d\n"
   ]
  },
  {
   "cell_type": "code",
   "execution_count": 79,
   "metadata": {},
   "outputs": [],
   "source": [
    "# Set params\n",
    "N=4\n",
    "M=4\n",
    "K=2\n",
    "R=4\n",
    "C=4"
   ]
  },
  {
   "cell_type": "code",
   "execution_count": 82,
   "metadata": {},
   "outputs": [],
   "source": [
    "# Generate input maps and weights\n",
    "input_fm = np.random.uniform( 0, 1, ( N, R, C ) )\n",
    "weights = np.random.uniform( 0, 1, ( N, M, K, K ) )"
   ]
  },
  {
   "cell_type": "code",
   "execution_count": 86,
   "metadata": {},
   "outputs": [
    {
     "name": "stdout",
     "output_type": "stream",
     "text": [
      "[[0.91198184 2.24555756 2.39509612 2.15607616]\n",
      " [1.05117503 2.76403967 2.70568681 3.22687245]\n",
      " [1.43719822 3.75327938 3.35967878 2.88762182]\n",
      " [0.97795958 3.41655019 3.61216601 2.2014063 ]]\n"
     ]
    }
   ],
   "source": [
    "output_fm = np.zeros( ( M, R, C ) )\n",
    "# compute convolution\n",
    "for i in range( M ):\n",
    "    # convolve each input fm and sum it together\n",
    "    for j in range( N ):\n",
    "        output_fm[i] += convolve2d( input_fm[j], weights[i][j], mode='same')\n",
    "\n",
    "print(output_fm[0])\n"
   ]
  }
 ],
 "metadata": {
  "kernelspec": {
   "display_name": "Python 3",
   "language": "python",
   "name": "python3"
  },
  "language_info": {
   "codemirror_mode": {
    "name": "ipython",
    "version": 3
   },
   "file_extension": ".py",
   "mimetype": "text/x-python",
   "name": "python",
   "nbconvert_exporter": "python",
   "pygments_lexer": "ipython3",
   "version": "3.9.13"
  }
 },
 "nbformat": 4,
 "nbformat_minor": 2
}
