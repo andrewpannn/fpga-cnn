{
 "cells": [
  {
   "cell_type": "code",
   "execution_count": 15,
   "metadata": {},
   "outputs": [],
   "source": [
    "# import libraries\n",
    "import struct\n",
    "import numpy as np\n",
    "from scipy.signal import convolve2d\n"
   ]
  },
  {
   "cell_type": "code",
   "execution_count": 16,
   "metadata": {},
   "outputs": [],
   "source": [
    "# Set params\n",
    "N=1\n",
    "M=1\n",
    "K=1\n",
    "R=4\n",
    "C=4"
   ]
  },
  {
   "cell_type": "code",
   "execution_count": 17,
   "metadata": {},
   "outputs": [],
   "source": [
    "# Generate input maps and weights\n",
    "input_fm = np.random.uniform( 0, 1, ( N, R, C ) )\n",
    "weights = np.random.uniform( 0, 1, ( M, N, K, K ) )"
   ]
  },
  {
   "cell_type": "code",
   "execution_count": 18,
   "metadata": {},
   "outputs": [],
   "source": [
    "output_fm = np.zeros( ( M, R, C ) )\n",
    "# compute convolution\n",
    "for i in range( M ):\n",
    "    # convolve each input fm and sum it together\n",
    "    for j in range( N ):\n",
    "        # mirror kernel\n",
    "        kernel = np.flip(np.flip(weights[i][j],0),1)\n",
    "        output_fm[i] += convolve2d( input_fm[j], kernel, mode='same')\n",
    "\n",
    "# print(output_fm[0])\n"
   ]
  },
  {
   "cell_type": "code",
   "execution_count": 19,
   "metadata": {},
   "outputs": [],
   "source": [
    "# write files\n",
    "# write input_fm\n",
    "with open('input_fm.dat', 'w') as f:\n",
    "    for i in range(N):\n",
    "        for row in range(R):\n",
    "            for col in range(C):\n",
    "                num = struct.unpack('!I', struct.pack('!f', input_fm[i][row][col]))[0]\n",
    "                f.write(f\"{num:032b}\\n\")\n",
    "\n",
    "# write weights_fm\n",
    "with open('weights.dat', 'w') as f:\n",
    "    for i in range(M):\n",
    "        for j in range(N):\n",
    "            for row in range(K):\n",
    "                for col in range(K):\n",
    "                    num = struct.unpack('!I', struct.pack('!f', weights[i][j][row][col]))[0]\n",
    "                    f.write(f\"{num:032b}\\n\")\n",
    "\n",
    "# write output_fm\n",
    "with open('output_fm.dat', 'w') as f:\n",
    "    for i in range(M):\n",
    "        for row in range(R):\n",
    "            for col in range(C):\n",
    "                num = struct.unpack('!I', struct.pack('!f', output_fm[i][row][col]))[0]\n",
    "                f.write(f\"{num:032b}\\n\")\n",
    "                "
   ]
  },
  {
   "cell_type": "code",
   "execution_count": 21,
   "metadata": {},
   "outputs": [],
   "source": [
    "# write files in decimal\n",
    "# write input_fm\n",
    "with open('input_fm.test', 'w') as f:\n",
    "    f.write(f\"{input_fm}\")\n",
    "\n",
    "# write weights_fm\n",
    "with open('weights.test', 'w') as f:\n",
    "    f.write(f\"{weights}\")\n",
    "\n",
    "# write output_fm\n",
    "with open('output_fm.test', 'w') as f:\n",
    "    f.write(f\"{output_fm}\")\n"
   ]
  },
  {
   "cell_type": "code",
   "execution_count": null,
   "metadata": {},
   "outputs": [
    {
     "name": "stdout",
     "output_type": "stream",
     "text": [
      "[[[0.30483928 0.59963377 0.37179611 0.41385765]\n",
      "  [0.98196631 0.48800693 0.08641591 0.85828344]\n",
      "  [0.96327074 0.35065049 0.83423927 0.76872088]\n",
      "  [0.93989854 0.0546957  0.58528876 0.62962907]]]\n",
      "[[[[0.71473096]]]]\n",
      "[[[0.21787807 0.42857682 0.26573419 0.29579688]\n",
      "  [0.70184173 0.34879366 0.06176412 0.61344175]\n",
      "  [0.68847942 0.25062077 0.59625664 0.54942861]\n",
      "  [0.67177459 0.03909271 0.418324   0.45001539]]]\n"
     ]
    }
   ],
   "source": [
    "print(input_fm)\n",
    "print(weights)\n",
    "print(output_fm)"
   ]
  }
 ],
 "metadata": {
  "kernelspec": {
   "display_name": ".venv",
   "language": "python",
   "name": "python3"
  },
  "language_info": {
   "codemirror_mode": {
    "name": "ipython",
    "version": 3
   },
   "file_extension": ".py",
   "mimetype": "text/x-python",
   "name": "python",
   "nbconvert_exporter": "python",
   "pygments_lexer": "ipython3",
   "version": "3.9.13"
  }
 },
 "nbformat": 4,
 "nbformat_minor": 2
}
