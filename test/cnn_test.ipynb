{
 "cells": [
  {
   "cell_type": "code",
   "execution_count": 20,
   "metadata": {},
   "outputs": [],
   "source": [
    "# import libraries\n",
    "import struct\n",
    "import numpy as np\n",
    "from scipy.signal import convolve2d\n"
   ]
  },
  {
   "cell_type": "code",
   "execution_count": null,
   "metadata": {},
   "outputs": [],
   "source": [
    "# Set params\n",
    "N=2\n",
    "M=2\n",
    "K=1\n",
    "R=4\n",
    "C=4"
   ]
  },
  {
   "cell_type": "code",
   "execution_count": 22,
   "metadata": {},
   "outputs": [],
   "source": [
    "# Generate input maps and weights\n",
    "input_fm = np.random.uniform( 0, 1, ( N, R, C ) )\n",
    "weights = np.random.uniform( 0, 1, ( M, N, K, K ) )"
   ]
  },
  {
   "cell_type": "code",
   "execution_count": 23,
   "metadata": {},
   "outputs": [],
   "source": [
    "output_fm = np.zeros( ( M, R, C ) )\n",
    "# compute convolution\n",
    "for i in range( M ):\n",
    "    # convolve each input fm and sum it together\n",
    "    for j in range( N ):\n",
    "        # mirror kernel\n",
    "        kernel = np.flip(np.flip(weights[i][j],0),1)\n",
    "        output_fm[i] += convolve2d( input_fm[j], kernel, mode='same')\n",
    "\n",
    "# print(output_fm[0])\n"
   ]
  },
  {
   "cell_type": "code",
   "execution_count": 24,
   "metadata": {},
   "outputs": [],
   "source": [
    "# write files\n",
    "# write input_fm\n",
    "with open('input_fm.dat', 'w') as f:\n",
    "    for i in range(N):\n",
    "        for row in range(R):\n",
    "            for col in range(C):\n",
    "                num = struct.unpack('!I', struct.pack('!f', input_fm[i][row][col]))[0]\n",
    "                f.write(f\"{num:032b}\\n\")\n",
    "\n",
    "# write weights_fm\n",
    "with open('weights.dat', 'w') as f:\n",
    "    for i in range(M):\n",
    "        for j in range(N):\n",
    "            for row in range(K):\n",
    "                for col in range(K):\n",
    "                    num = struct.unpack('!I', struct.pack('!f', weights[i][j][row][col]))[0]\n",
    "                    f.write(f\"{num:032b}\\n\")\n",
    "\n",
    "# write output_fm\n",
    "with open('output_fm.dat', 'w') as f:\n",
    "    for i in range(M):\n",
    "        for row in range(R):\n",
    "            for col in range(C):\n",
    "                num = struct.unpack('!I', struct.pack('!f', output_fm[i][row][col]))[0]\n",
    "                f.write(f\"{num:032b}\\n\")\n",
    "                "
   ]
  },
  {
   "cell_type": "code",
   "execution_count": 25,
   "metadata": {},
   "outputs": [],
   "source": [
    "# write files in decimal\n",
    "# write input_fm\n",
    "with open('input_fm.test', 'w') as f:\n",
    "    f.write(f\"{input_fm}\")\n",
    "\n",
    "# write weights_fm\n",
    "with open('weights.test', 'w') as f:\n",
    "    f.write(f\"{weights}\")\n",
    "\n",
    "# write output_fm\n",
    "with open('output_fm.test', 'w') as f:\n",
    "    f.write(f\"{output_fm}\")\n"
   ]
  },
  {
   "cell_type": "code",
   "execution_count": 26,
   "metadata": {},
   "outputs": [
    {
     "name": "stdout",
     "output_type": "stream",
     "text": [
      "[[[0.29554891 0.42989325 0.6160341  0.69364711]\n",
      "  [0.11537931 0.12994664 0.06128317 0.78274782]\n",
      "  [0.69280258 0.47217271 0.99091064 0.33576005]\n",
      "  [0.79326754 0.60074264 0.47877254 0.65249271]]]\n",
      "[[[[0.94243552]]]\n",
      "\n",
      "\n",
      " [[[0.24461707]]]]\n",
      "[[[0.27853579 0.40514667 0.58057241 0.65371767]\n",
      "  [0.10873756 0.12246633 0.05775543 0.73768935]\n",
      "  [0.65292176 0.44499234 0.93386939 0.3164322 ]\n",
      "  [0.7476035  0.5661612  0.45121224 0.6149323 ]]\n",
      "\n",
      " [[0.07229631 0.10515923 0.15069246 0.16967793]\n",
      "  [0.02822375 0.03178717 0.01499091 0.19147348]\n",
      "  [0.16947134 0.11550151 0.24239366 0.08213264]\n",
      "  [0.19404678 0.14695191 0.11711594 0.15961086]]]\n"
     ]
    }
   ],
   "source": [
    "print(input_fm)\n",
    "print(weights)\n",
    "print(output_fm)"
   ]
  }
 ],
 "metadata": {
  "kernelspec": {
   "display_name": "base",
   "language": "python",
   "name": "python3"
  },
  "language_info": {
   "codemirror_mode": {
    "name": "ipython",
    "version": 3
   },
   "file_extension": ".py",
   "mimetype": "text/x-python",
   "name": "python",
   "nbconvert_exporter": "python",
   "pygments_lexer": "ipython3",
   "version": "3.12.7"
  }
 },
 "nbformat": 4,
 "nbformat_minor": 2
}
